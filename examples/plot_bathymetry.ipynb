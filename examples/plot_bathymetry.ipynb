{
 "cells": [
  {
   "cell_type": "markdown",
   "id": "966af460",
   "metadata": {},
   "source": [
    "# Plotting topography and other uneven distributed arrays"
   ]
  },
  {
   "cell_type": "code",
   "execution_count": null,
   "id": "9146576a",
   "metadata": {},
   "outputs": [],
   "source": [
    "# Imports\n",
    "\n",
    "import numpy as np\n",
    "from netCDF4 import Dataset\n",
    "import matplotlib.pyplot as plt\n",
    "import roppy"
   ]
  },
  {
   "cell_type": "code",
   "execution_count": null,
   "id": "14d19888",
   "metadata": {},
   "outputs": [],
   "source": [
    "# Data file\n",
    "roms_file = \"data/ocean_avg_example.nc\""
   ]
  },
  {
   "cell_type": "code",
   "execution_count": null,
   "id": "6d4d3e3e",
   "metadata": {},
   "outputs": [],
   "source": [
    "# Read the bathymetry\n",
    "with Dataset(roms_file) as ncid:\n",
    "    H = ncid.variables[\"h\"][:, :]\n",
    "    M = ncid.variables[\"mask_rho\"][:, :]"
   ]
  },
  {
   "cell_type": "markdown",
   "id": "07a3d6f6",
   "metadata": {},
   "source": [
    "The main problem is that details in the shallow North Sea are not visible with a straight coloured contour map."
   ]
  },
  {
   "cell_type": "code",
   "execution_count": null,
   "id": "bf74be4f",
   "metadata": {},
   "outputs": [],
   "source": [
    "# First stab at plotting the bathymetry\n",
    "plt.contourf(H)\n",
    "plt.colorbar()"
   ]
  },
  {
   "cell_type": "markdown",
   "id": "534cadfb",
   "metadata": {},
   "source": [
    "The contour functions can take a level argument, but that does not help much with the colour filling.\n",
    "The colour map is reversed to make the deep sea dark blue. `axis(image)` gives the plot the ration between \n",
    "with and height."
   ]
  },
  {
   "cell_type": "code",
   "execution_count": null,
   "id": "0168d792",
   "metadata": {},
   "outputs": [],
   "source": [
    "L = [25, 50, 100, 250, 500, 1000, 2500]\n",
    "plt.contourf(H, levels=L, cmap=\"viridis_r\", extend=\"both\")\n",
    "plt.colorbar()\n",
    "\n",
    "plt.axis(\"image\");"
   ]
  },
  {
   "cell_type": "markdown",
   "id": "b8c09ef1",
   "metadata": {},
   "source": [
    "An alternative for bathymetry is to take the logarithm. This shows the details in the shallow North Sea.\n",
    "The colour map is messed up and is not easily fixed. Some thin black isolines are added for clarity. \n",
    "The land is still not masked out."
   ]
  },
  {
   "cell_type": "code",
   "execution_count": null,
   "id": "75a4cfc3",
   "metadata": {},
   "outputs": [],
   "source": [
    "L = [25, 50, 100, 250, 500, 1000, 2500]\n",
    "plt.contourf(np.log10(H), levels=np.log10(L), cmap=\"viridis_r\", extend=\"both\")\n",
    "plt.colorbar()\n",
    "plt.contour(H, levels=L, colors=\"black\", linewidths=0.5)\n",
    "plt.axis(\"image\");"
   ]
  },
  {
   "cell_type": "markdown",
   "id": "6dfd01c7",
   "metadata": {},
   "source": [
    "\n",
    "An alternative to the logarithm is to take explicit control over the colour map and the normalization and spread out the desired levels evenly along the colour axis. This is done by the function `levelmap` in roppy.\n",
    "This is a more general applicable solution for other variables than taking the logarithm.\n",
    "Land can be masked out by setting the data values to NaN. A poor man's coast line is obtained by contouring the land mask at level 0.5 between land and sea.\n"
   ]
  },
  {
   "cell_type": "code",
   "execution_count": null,
   "id": "ab4c4a0c",
   "metadata": {},
   "outputs": [],
   "source": [
    "H2 = np.where(M > 0, H, np.nan)  # Mask out land\n",
    "extend = \"both\"\n",
    "cmap, norm = roppy.levelmap(L, extend=extend, reverse=True)\n",
    "cmap.set_bad(\"grey\")\n",
    "plt.contourf(H2, levels=L, cmap=cmap, norm=norm, extend=extend)\n",
    "plt.colorbar()\n",
    "plt.contour(H, levels=L, colors=\"black\", linewidths=0.5)\n",
    "plt.contour(M, levels=[0.5], colors=\"black\")  # Coast line\n",
    "plt.axis(\"image\");"
   ]
  },
  {
   "cell_type": "markdown",
   "id": "5b3121ad",
   "metadata": {},
   "source": [
    "Roppy has a function `landmask` for adding the grid's land mask."
   ]
  },
  {
   "cell_type": "code",
   "execution_count": null,
   "id": "c6056b55",
   "metadata": {
    "scrolled": true
   },
   "outputs": [],
   "source": [
    "extend = \"both\"\n",
    "cmap, norm = roppy.levelmap(L, extend=extend, reverse=True)\n",
    "plt.contourf(H, levels=L, cmap=cmap, norm=norm, extend=extend)\n",
    "plt.colorbar()\n",
    "plt.contour(H, levels=L, colors=\"black\", linewidths=0.5)\n",
    "\n",
    "# Roppy has a function for making a land mask\n",
    "roppy.landmask(M, \"grey\")\n",
    "\n",
    "plt.axis(\"image\")\n"
   ]
  },
  {
   "cell_type": "markdown",
   "id": "63ad64e5",
   "metadata": {},
   "source": [
    "The same `cmap`and `norm` can be used for `pcolormesh` as well."
   ]
  },
  {
   "cell_type": "code",
   "execution_count": null,
   "id": "2e6ffb80",
   "metadata": {},
   "outputs": [],
   "source": [
    "H2 = np.where(M > 0, H, np.nan)  # mask out land\n",
    "\n",
    "cmap, norm = roppy.levelmap(L, extend=extend, reverse=True)\n",
    "cmap.set_bad(\"grey\")  # Set a colour for undefined (land) cells.\n",
    "\n",
    "# We need the grid cell boundaries\n",
    "jmax, imax = M.shape\n",
    "Xb = np.arange(-0.5, imax)\n",
    "Yb = np.arange(-0.5, jmax)\n",
    "plt.pcolormesh(Xb, Yb, H2, cmap=cmap, norm=norm)\n",
    "plt.colorbar(extend=\"both\")\n",
    "# Add some contour lines\n",
    "plt.contour(H, levels=[100, 1000], colors=\"black\", linewidths=0.5)\n",
    "\n",
    "plt.axis(\"image\");"
   ]
  }
 ],
 "metadata": {
  "kernelspec": {
   "display_name": "Python 3 (ipykernel)",
   "language": "python",
   "name": "python3"
  },
  "language_info": {
   "codemirror_mode": {
    "name": "ipython",
    "version": 3
   },
   "file_extension": ".py",
   "mimetype": "text/x-python",
   "name": "python",
   "nbconvert_exporter": "python",
   "pygments_lexer": "ipython3",
   "version": "3.10.6"
  },
  "vscode": {
   "interpreter": {
    "hash": "0cd49a23b9f07700bb5a042500fd30d6385c40c9eb5c9099a2a36081fe566550"
   }
  }
 },
 "nbformat": 4,
 "nbformat_minor": 5
}
