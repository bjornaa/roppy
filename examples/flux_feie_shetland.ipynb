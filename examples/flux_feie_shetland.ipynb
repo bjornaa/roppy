{
 "metadata": {
  "name": "",
  "signature": "sha256:bc7db9db54340074e515b909173ae6389cc8046ca3144f4d671387804b8df77d"
 },
 "nbformat": 3,
 "nbformat_minor": 0,
 "worksheets": [
  {
   "cells": [
    {
     "cell_type": "markdown",
     "metadata": {},
     "source": [
      "Examples on the use of roppy's FluxSection class\n",
      "================================================\n",
      "\n",
      "The FluxSection class implements a staircase approximation to a section,\n",
      "starting and ending in psi-points and following U- and V-edges.\n",
      "\n",
      "No interpolation is needed to estimate the flux, giving good  conservation\n",
      "properties. On the other hand, this limits the flexibility of the approach. \n",
      "\n",
      "\n"
     ]
    },
    {
     "cell_type": "markdown",
     "metadata": {},
     "source": [
      "The class depends on numpy and is part of roppy. netCDF4 is needed to read data. Matplotlib is not required\n",
      "for FluxSection but is used for visualisation in this notebook."
     ]
    },
    {
     "cell_type": "code",
     "collapsed": false,
     "input": [
      "# Imports\n",
      "\n",
      "import numpy as np\n",
      "import matplotlib.pyplot as plt\n",
      "from netCDF4 import Dataset\n",
      "\n",
      "import roppy\n",
      "\n",
      "%matplotlib inline\n"
     ],
     "language": "python",
     "metadata": {},
     "outputs": [],
     "prompt_number": 3
    },
    {
     "cell_type": "markdown",
     "metadata": {},
     "source": [
      "First the ROMS dataset and the section must be described. By convention the\n",
      "flux is considered positive if the direction is to the right of the section\n",
      "going from the first to the second end point."
     ]
    },
    {
     "cell_type": "code",
     "collapsed": false,
     "input": [
      "# Settings\n",
      "\n",
      "# Data\n",
      "romsfile = './data/ocean_avg_example.nc'\n",
      "tstep = 2      # Third time frame in the file\n",
      "\n",
      "# Section end points\n",
      "\n",
      "lon0, lat0 =  4.72, 60.75   # Section start - Feie\n",
      "lon1, lat1 = -0.67, 60.75   # Section stop - Shetland"
     ],
     "language": "python",
     "metadata": {},
     "outputs": [],
     "prompt_number": 7
    },
    {
     "cell_type": "code",
     "collapsed": false,
     "input": [
      "# Make SGrid and FluxSection objects\n",
      "\n",
      "fid = Dataset(romsfile)\n",
      "grid = roppy.SGrid(fid) \n",
      "\n",
      "# End points in grid coordinates\n",
      "x0, y0 = grid.ll2xy(lon0, lat0)\n",
      "x1, y1 = grid.ll2xy(lon1, lat1)\n",
      "# Choose closest psi-points\n",
      "i0, i1, j0, j1 = [int(np.ceil(v)) for v in [x0, x1, y0, y1]]\n",
      "\n",
      "# The staircase flux section\n",
      "I, J = roppy.staircase_from_line(i0, i1, j0, j1)\n",
      "sec = roppy.FluxSection(grid, I, J)\n"
     ],
     "language": "python",
     "metadata": {},
     "outputs": [
      {
       "ename": "RuntimeError",
       "evalue": "No such file or directory",
       "output_type": "pyerr",
       "traceback": [
        "\u001b[1;31m---------------------------------------------------------------------------\u001b[0m\n\u001b[1;31mRuntimeError\u001b[0m                              Traceback (most recent call last)",
        "\u001b[1;32m<ipython-input-5-a6ef7fe50707>\u001b[0m in \u001b[0;36m<module>\u001b[1;34m()\u001b[0m\n\u001b[0;32m      1\u001b[0m \u001b[1;31m# Make SGrid and FluxSection objects\u001b[0m\u001b[1;33m\u001b[0m\u001b[1;33m\u001b[0m\u001b[0m\n\u001b[0;32m      2\u001b[0m \u001b[1;33m\u001b[0m\u001b[0m\n\u001b[1;32m----> 3\u001b[1;33m \u001b[0mfid\u001b[0m \u001b[1;33m=\u001b[0m \u001b[0mDataset\u001b[0m\u001b[1;33m(\u001b[0m\u001b[0mromsfile\u001b[0m\u001b[1;33m)\u001b[0m\u001b[1;33m\u001b[0m\u001b[0m\n\u001b[0m\u001b[0;32m      4\u001b[0m \u001b[0mgrid\u001b[0m \u001b[1;33m=\u001b[0m \u001b[0mroppy\u001b[0m\u001b[1;33m.\u001b[0m\u001b[0mSGrid\u001b[0m\u001b[1;33m(\u001b[0m\u001b[0mfid\u001b[0m\u001b[1;33m)\u001b[0m\u001b[1;33m\u001b[0m\u001b[0m\n\u001b[0;32m      5\u001b[0m \u001b[1;33m\u001b[0m\u001b[0m\n",
        "\u001b[1;32m/opt/anaconda/lib/python2.7/site-packages/netCDF4.so\u001b[0m in \u001b[0;36mnetCDF4.Dataset.__init__ (netCDF4.c:19736)\u001b[1;34m()\u001b[0m\n",
        "\u001b[1;31mRuntimeError\u001b[0m: No such file or directory"
       ]
      }
     ],
     "prompt_number": 5
    },
    {
     "cell_type": "code",
     "collapsed": false,
     "input": [
      "# Make a quick and dirty horizontal plot of the section\n",
      "\n",
      "# Read topography\n",
      "H = fid.variables['h'][:,:]\n",
      "\n",
      "Levels = (0, 100, 300, 1000, 3000, 5000)\n",
      "plt.contourf(H, levels=Levels, cmap=plt.get_cmap('Blues'))\n",
      "plt.colorbar()\n",
      "# Quick coastline\n",
      "plt.contour(H, levels=[10], colors='black') \n",
      "\n",
      "# Plot the stair case section\n",
      "# NOTE: subtract 0.5 to go from psi-index to grid coordinate\n",
      "plt.plot(sec.I - 0.5, sec.J - 0.5, lw=2, color='red')   # Staircase\n",
      "\n",
      "# Zoom\n",
      "#plt.axis([80, 150, 100, 140])\n",
      "\n"
     ],
     "language": "python",
     "metadata": {},
     "outputs": [
      {
       "ename": "NameError",
       "evalue": "name 'fid' is not defined",
       "output_type": "pyerr",
       "traceback": [
        "\u001b[1;31m---------------------------------------------------------------------------\u001b[0m\n\u001b[1;31mNameError\u001b[0m                                 Traceback (most recent call last)",
        "\u001b[1;32m<ipython-input-6-cc4be36305ec>\u001b[0m in \u001b[0;36m<module>\u001b[1;34m()\u001b[0m\n\u001b[0;32m      2\u001b[0m \u001b[1;33m\u001b[0m\u001b[0m\n\u001b[0;32m      3\u001b[0m \u001b[1;31m# Read topography\u001b[0m\u001b[1;33m\u001b[0m\u001b[1;33m\u001b[0m\u001b[0m\n\u001b[1;32m----> 4\u001b[1;33m \u001b[0mH\u001b[0m \u001b[1;33m=\u001b[0m \u001b[0mfid\u001b[0m\u001b[1;33m.\u001b[0m\u001b[0mvariables\u001b[0m\u001b[1;33m[\u001b[0m\u001b[1;34m'h'\u001b[0m\u001b[1;33m]\u001b[0m\u001b[1;33m[\u001b[0m\u001b[1;33m:\u001b[0m\u001b[1;33m,\u001b[0m\u001b[1;33m:\u001b[0m\u001b[1;33m]\u001b[0m\u001b[1;33m\u001b[0m\u001b[0m\n\u001b[0m\u001b[0;32m      5\u001b[0m \u001b[1;33m\u001b[0m\u001b[0m\n\u001b[0;32m      6\u001b[0m \u001b[0mLevels\u001b[0m \u001b[1;33m=\u001b[0m \u001b[1;33m(\u001b[0m\u001b[1;36m0\u001b[0m\u001b[1;33m,\u001b[0m \u001b[1;36m100\u001b[0m\u001b[1;33m,\u001b[0m \u001b[1;36m300\u001b[0m\u001b[1;33m,\u001b[0m \u001b[1;36m1000\u001b[0m\u001b[1;33m,\u001b[0m \u001b[1;36m3000\u001b[0m\u001b[1;33m,\u001b[0m \u001b[1;36m5000\u001b[0m\u001b[1;33m)\u001b[0m\u001b[1;33m\u001b[0m\u001b[0m\n",
        "\u001b[1;31mNameError\u001b[0m: name 'fid' is not defined"
       ]
      }
     ],
     "prompt_number": 6
    },
    {
     "cell_type": "code",
     "collapsed": false,
     "input": [
      "# Zoom in on the staircase\n",
      "\n",
      "# Plot blue line between end points\n",
      "plt.plot([sec.I[0]-0.5, sec.I[-1]-0.5], [sec.J[0]-0.5, sec.J[-1]-0.5])\n",
      "\n",
      "# Plot red staircase curve\n",
      "plt.plot(sec.I-0.5, sec.J-0.5, lw=2, color='red') \n",
      "\n",
      "plt.grid(True)\n",
      "_ = plt.axis('equal')\n"
     ],
     "language": "python",
     "metadata": {},
     "outputs": [
      {
       "metadata": {},
       "output_type": "display_data",
       "png": "[encoded data removed]",
       "text": [
        "<matplotlib.figure.Figure at 0x7fa94aaabe90>"
       ]
      }
     ],
     "prompt_number": 38
    },
    {
     "cell_type": "code",
     "collapsed": false,
     "input": [
      "# Read the velocity\n",
      "\n",
      "U = fid.variables['u'][tstep, :, :, :]\n",
      "V = fid.variables['v'][tstep, :, :, :]"
     ],
     "language": "python",
     "metadata": {},
     "outputs": [],
     "prompt_number": 39
    },
    {
     "cell_type": "code",
     "collapsed": false,
     "input": [
      "# Compute volume flux through the section\n",
      "# ----------------------------------------\n",
      "\n",
      "netflux,posflux = sec.transport(U, V)\n",
      "\n",
      "print(\"Net flux              = {:6.2f} Sv\".format(netflux * 1e-6))\n",
      "print(\"Total northwards flux = {:6.2f} Sv\".format(posflux * 1e-6))\n",
      "print(\"Total southwards flux = {:6.2f} Sv\".format((posflux-netflux)*1e-6))\n"
     ],
     "language": "python",
     "metadata": {},
     "outputs": [
      {
       "output_type": "stream",
       "stream": "stdout",
       "text": [
        "Net flux              =   0.18 Sv\n",
        "Total northwards flux =   0.97 Sv\n",
        "Total southwards flux =   0.79 Sv\n"
       ]
      }
     ],
     "prompt_number": 43
    },
    {
     "cell_type": "code",
     "collapsed": false,
     "input": [
      "# Flux of specific water mass\n",
      "# --------------------------------\n",
      "\n",
      "# Read hydrography\n",
      "S = fid.variables['salt'][tstep, :, :]\n",
      "T = fid.variables['temp'][tstep, :, :]\n",
      "\n",
      "# Compute section arrays\n",
      "UV = sec.flux_array(U, V)\n",
      "S = sec.sample3D(S)\n",
      "#T = sec.sample3D(T)\n",
      "\n",
      "# Compute flux where S > 34.9\n",
      "S_lim = 34.9\n",
      "cond = S > S_lim\n",
      "net_flux = np.sum(UV[cond] * sec.dSdZ[cond]) * 1e-6\n",
      "# Northwards component\n",
      "cond1 = (cond) & (UV > 0)\n",
      "north_flux = np.sum(UV[cond1] * sec.dSdZ[cond1]) * 1e-6\n",
      "\n",
      "print(\"Net flux, S > {:4.1f}        = {:6.2f} Sv\".format(S_lim, net_flux))\n",
      "print(\"Northwards flux, S > {:4.1f} = {:6.2f} Sv\".format(S_lim, north_flux))\n",
      "print(\"Southwards flux, S > {:4.1f} = {:6.2f} Sv\".format(S_lim, north_flux - net_flux))\n",
      "\n",
      "      \n"
     ],
     "language": "python",
     "metadata": {},
     "outputs": [
      {
       "output_type": "stream",
       "stream": "stdout",
       "text": [
        "Net flux, S > 34.9        =  -0.18 Sv\n",
        "Northwards flux, S > 34.9 =   0.61 Sv\n",
        "Southwards flux, S > 34.9 =   0.79 Sv\n"
       ]
      }
     ],
     "prompt_number": 44
    },
    {
     "cell_type": "code",
     "collapsed": false,
     "input": [
      "# Salt flux\n",
      "# ---------\n",
      "\n",
      "rho = 1025.0   # Density, could compute this from hydrography\n",
      "salt_flux = 0.001 * rho * np.sum(UV * sec.dSdZ * S) \n",
      "\n",
      "# Check correct order of magnitude\n",
      "print \"Net salt flux = {:5.2f} Gg\".format(salt_flux)\n",
      "\n",
      "\n"
     ],
     "language": "python",
     "metadata": {},
     "outputs": [
      {
       "output_type": "stream",
       "stream": "stdout",
       "text": [
        "Net salt flux =  5978175.41049\n"
       ]
      }
     ],
     "prompt_number": 79
    },
    {
     "cell_type": "code",
     "collapsed": false,
     "input": [
      "# Flux in a depth range\n",
      "# ----------------------\n",
      "\n",
      "depth_lim = 100.0\n",
      "\n",
      "# Have not stored z_w, take average from z_r\n",
      "z_r = 0.5*(sec.z_w[:-1,:] + sec.z_w[1:,:])  \n",
      "cond = z_r > -depth_lim\n",
      "\n",
      "# Could be more accurate, use portion of cell\n",
      "#   above the depth limit\n",
      "# Now: only using cells with midpoint above 100 m\n",
      "\n",
      "net_flux = np.sum(UV[cond] * sec.dSdZ[cond]) * 1e-6\n",
      "# Northwards component\n",
      "cond1 = (cond) & (UV > 0)\n",
      "north_flux = np.sum(UV[cond1] * sec.dSdZ[cond1]) * 1e-6\n",
      "\n",
      "print(\"Net flux, depth < {:4.0f}        = {:6.2f} Sv\".format(depth_lim, net_flux))\n",
      "print(\"Northwards flux, depth < {:4.0f} = {:6.2f} Sv\".format(depth_lim, north_flux))\n",
      "print(\"Southwards flux, depth < {:4.0f} = {:6.2f} Sv\".format(depth_lim, north_flux - net_flux))\n",
      "\n",
      "# Deep flux\n",
      "cond = z_r < -depth_lim\n",
      "net_flux = np.sum(UV[cond] * sec.dSdZ[cond]) * 1e-6\n",
      "# Northwards component\n",
      "cond1 = (cond) & (UV > 0)\n",
      "north_flux = np.sum(UV[cond1] * sec.dSdZ[cond1]) * 1e-6\n",
      "\n",
      "print(\"\")\n",
      "print(\"Net flux, depth > {:4.0f}        = {:6.2f} Sv\".format(depth_lim, net_flux))\n",
      "print(\"Northwards flux, depth > {:4.0f} = {:6.2f} Sv\".format(depth_lim, north_flux))\n",
      "print(\"Southwards flux, depth > {:4.0f} = {:6.2f} Sv\".format(depth_lim, north_flux - net_flux))\n"
     ],
     "language": "python",
     "metadata": {},
     "outputs": [
      {
       "output_type": "stream",
       "stream": "stdout",
       "text": [
        "Net flux, depth <  100        =   0.11 Sv\n",
        "Northwards flux, depth <  100 =   0.55 Sv\n",
        "Southwards flux, depth <  100 =   0.43 Sv\n",
        "\n",
        "Net flux, depth >  100        =   0.07 Sv\n",
        "Northwards flux, depth >  100 =   0.42 Sv\n",
        "Southwards flux, depth >  100 =   0.36 Sv\n"
       ]
      }
     ],
     "prompt_number": 80
    },
    {
     "cell_type": "code",
     "collapsed": false,
     "input": [
      "# Examine the staircase\n",
      "# ------------------------\n",
      "\n",
      "\n",
      "# Perhaps a method should return this quantity\n",
      "# cell_flux for instance\n",
      "F = UV * sec.dSdZ\n",
      "\n",
      "# Flux in X-direction (mostly east)\n",
      "cond = sec.Eu   # Only use U-edges\n",
      "# Extend the array in the vertical\n",
      "cond = np.logical_and.outer(sec.N*[True], cond)\n",
      "\n",
      "net_flux = np.sum(F[cond]) * 1e-6\n",
      "\n",
      "# Postive component\n",
      "cond1 = (cond) & (UV > 0)\n",
      "pos_flux = np.sum(F[cond1]) * 1e-6\n",
      "\n",
      "\n",
      "print(\"net X flux = {:6.2f} Sv\".format(net_flux))\n",
      "print(\"pos X flux = {:6.2f} Sv\".format(pos_flux))\n",
      "print(\"neg X flux = {:6.2f} Sv\".format(pos_flux-net_flux))\n",
      "\n",
      "\n",
      "# Flux in Y-direction (mostly north)\n",
      "cond = np.logical_and.outer(sec.N*[True], sec.Ev)   # Only V-edges\n",
      "net_flux = np.sum(F[cond]) * 1e-6\n",
      "# Postive component\n",
      "\n",
      "cond1 = (cond) & (UV > 0)\n",
      "pos_flux = np.sum(F[cond1]) * 1e-6\n",
      "\n",
      "print(\"\")\n",
      "print(\"net Y flux = {:6.2f} Sv\".format(net_flux))\n",
      "print(\"pos Y flux = {:6.2f} Sv\".format(pos_flux))\n",
      "print(\"neg Y flux = {:6.2f} Sv\".format(pos_flux-net_flux))\n"
     ],
     "language": "python",
     "metadata": {},
     "outputs": [
      {
       "output_type": "stream",
       "stream": "stdout",
       "text": [
        "net X flux =   0.05 Sv\n",
        "pos X flux =   0.13 Sv\n",
        "neg X flux =   0.08 Sv\n",
        "\n",
        "net Y flux =   0.13 Sv\n",
        "pos Y flux =   0.84 Sv\n",
        "neg Y flux =   0.70 Sv\n"
       ]
      }
     ],
     "prompt_number": 77
    },
    {
     "cell_type": "code",
     "collapsed": false,
     "input": [],
     "language": "python",
     "metadata": {},
     "outputs": [],
     "prompt_number": 65
    },
    {
     "cell_type": "code",
     "collapsed": false,
     "input": [],
     "language": "python",
     "metadata": {},
     "outputs": []
    }
   ],
   "metadata": {}
  }
 ]
}