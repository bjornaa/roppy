{
 "cells": [
  {
   "cell_type": "markdown",
   "metadata": {},
   "source": [
    "Examples on the use of `roppy`'s `FluxSection` class\n",
    "====================================================\n",
    "\n",
    "The `FluxSection` class implements a staircase approximation to a section,\n",
    "starting and ending in psi-points and following U- and V-edges.\n",
    "\n",
    "No interpolation is needed to estimate the flux, giving good conservation\n",
    "properties. On the other hand, this limits the flexibility of the approach.\n",
    "As distance get distorded, depending on the stair shape, it is not suited\n",
    "for plotting normal current and other properties along the section.\n",
    "\n",
    "\n"
   ]
  },
  {
   "cell_type": "markdown",
   "metadata": {
    "collapsed": true
   },
   "source": [
    "# Imports\n",
    "=======\n",
    "\n",
    "The class depends on `numpy` and is part of `roppy`. To read the data `netCDF4` is needed.\n",
    "The graphic package `matplotlib` is not required for `FluxSection` but is used for visualisation in this notebook."
   ]
  },
  {
   "cell_type": "code",
   "execution_count": null,
   "metadata": {},
   "outputs": [],
   "source": [
    "# Imports\n",
    "\n",
    "import numpy as np\n",
    "import matplotlib.pyplot as plt\n",
    "from netCDF4 import Dataset\n",
    "\n",
    "import roppy\n",
    "\n",
    "%matplotlib inline\n"
   ]
  },
  {
   "cell_type": "markdown",
   "metadata": {},
   "source": [
    "User settings\n",
    "=============\n",
    "\n",
    "First the ROMS dataset and the section must be described. The section is described by its end points.\n",
    "By convention the flux is considered positive if the direction is to the right of the section\n",
    "going from the first to the second end point."
   ]
  },
  {
   "cell_type": "code",
   "execution_count": null,
   "metadata": {},
   "outputs": [],
   "source": [
    "# Settings\n",
    "\n",
    "# Data\n",
    "romsfile = './data/ocean_avg_example.nc'\n",
    "tstep = 2      # Third time frame in the file\n",
    "\n",
    "# Section end points\n",
    "\n",
    "lon0, lat0 =  4.72, 60.75   # Section start - Feie\n",
    "lon1, lat1 = -0.67, 60.75   # Section stop - Shetland"
   ]
  },
  {
   "cell_type": "markdown",
   "metadata": {},
   "source": [
    "Make `SGrid` and `FluxSection` objects\n",
    "======================================\n",
    "\n",
    "This datafile contains enough horizontal and vertical information to determine\n",
    "an `SGrid` object. \n",
    "\n",
    "The `SGrid` class has a method `ll2xy` to convert from lon/lat to grid coordinates.\n",
    "Thereafter the nearest $\\psi$-points are found and a staircase curve joining\n",
    "the two $\\psi$-points. Thereafter a `FluxSection` object can be created."
   ]
  },
  {
   "cell_type": "code",
   "execution_count": null,
   "metadata": {},
   "outputs": [],
   "source": [
    "# Make SGrid and FluxSection objects\n",
    "\n",
    "fid = Dataset(romsfile)\n",
    "grid = roppy.SGrid(fid) \n",
    "\n",
    "# End points in grid coordinates\n",
    "x0, y0 = grid.ll2xy(lon0, lat0)\n",
    "x1, y1 = grid.ll2xy(lon1, lat1)\n",
    "# Find nearest psi-points\n",
    "i0, i1, j0, j1 = [int(np.ceil(v)) for v in [x0, x1, y0, y1]]\n",
    "\n",
    "# The staircase flux section\n",
    "I, J = roppy.staircase_from_line(i0, i1, j0, j1)\n",
    "sec = roppy.FluxSection(grid, I, J)\n"
   ]
  },
  {
   "cell_type": "markdown",
   "metadata": {},
   "source": [
    "Visual check\n",
    "============\n",
    "\n",
    "To check the section specification plot it in a simple map."
   ]
  },
  {
   "cell_type": "code",
   "execution_count": null,
   "metadata": {},
   "outputs": [],
   "source": [
    "# Make a quick and dirty horizontal plot of the section\n",
    "\n",
    "# Read topography\n",
    "H = fid.variables['h'][:,:]\n",
    "\n",
    "Levels = (0, 100, 300, 1000, 3000, 5000)\n",
    "plt.contourf(H, levels=Levels, cmap=plt.get_cmap('Blues'))\n",
    "plt.colorbar()\n",
    "# Poor man's coastline\n",
    "plt.contour(H, levels=[10], colors='black') \n",
    "\n",
    "# Plot the stair case section\n",
    "# NOTE: subtract 0.5 to go from psi-index to grid coordinate\n",
    "plt.plot(sec.I - 0.5, sec.J - 0.5, lw=2, color='red')   # Staircase"
   ]
  },
  {
   "cell_type": "markdown",
   "metadata": {},
   "source": [
    "Staircase approximation\n",
    "=======================\n",
    "\n",
    "The next plot is just an illustration of how the function `staircase_from_line` works, interpolating the straight line in the grid plane as closely as possible."
   ]
  },
  {
   "cell_type": "code",
   "execution_count": null,
   "metadata": {},
   "outputs": [],
   "source": [
    "# Zoom in on the staircase\n",
    "\n",
    "# Plot blue line between end points\n",
    "plt.plot([sec.I[0]-0.5, sec.I[-1]-0.5], [sec.J[0]-0.5, sec.J[-1]-0.5])\n",
    "\n",
    "# Plot red staircase curve\n",
    "plt.plot(sec.I-0.5, sec.J-0.5, lw=2, color='red') \n",
    "\n",
    "plt.grid(True)\n",
    "_ = plt.axis('equal')"
   ]
  },
  {
   "cell_type": "markdown",
   "metadata": {},
   "source": [
    "Read the velocity\n",
    "=================\n",
    "\n",
    "To compute the fluxes, we need the 3D velocity components"
   ]
  },
  {
   "cell_type": "code",
   "execution_count": null,
   "metadata": {},
   "outputs": [],
   "source": [
    "# Read the velocity\n",
    "\n",
    "U = fid.variables['u'][tstep, :, :, :]\n",
    "V = fid.variables['v'][tstep, :, :, :]"
   ]
  },
  {
   "cell_type": "markdown",
   "metadata": {},
   "source": [
    "Total volume flux\n",
    "=================\n",
    "\n",
    "Obtaining the total volume flux is easy, there is a convenient method `transport` for this purpose returning the net and positive transport to the right of the section (northwards in this case)."
   ]
  },
  {
   "cell_type": "code",
   "execution_count": null,
   "metadata": {},
   "outputs": [],
   "source": [
    "# Compute volume flux through the section\n",
    "# ----------------------------------------\n",
    "\n",
    "netflux,posflux = sec.transport(U, V)\n",
    "\n",
    "print(\"Net flux              = {:6.2f} Sv\".format(netflux * 1e-6))\n",
    "print(\"Total northwards flux = {:6.2f} Sv\".format(posflux * 1e-6))\n",
    "print(\"Total southwards flux = {:6.2f} Sv\".format((posflux-netflux)*1e-6))\n"
   ]
  },
  {
   "cell_type": "markdown",
   "metadata": {},
   "source": [
    "Flux limited by watermass\n",
    "=========================\n",
    "\n",
    "The class is flexible enough that more complicated flux calculations can be done.\n",
    "The method `flux_array` returns a 2D array of flux through the cells along the section.\n",
    "\n",
    "Using `numpy`'s advanced logical indexing, different conditions can be prescribed.\n",
    "For instance a specific water mass can be given by inequalities in salinity and temperature.\n",
    "NOTE: Different conditions must be parenthesed before using logical operators.\n",
    "\n",
    "The 3D hydrographic fields must be sampled to the section cells, this is done by the method `sample3D`."
   ]
  },
  {
   "cell_type": "code",
   "execution_count": null,
   "metadata": {},
   "outputs": [],
   "source": [
    "# Flux of specific water mass\n",
    "# --------------------------------\n",
    "\n",
    "# Read hydrography\n",
    "S = fid.variables['salt'][tstep, :, :]\n",
    "T = fid.variables['temp'][tstep, :, :]\n",
    "\n",
    "# Compute section arrays\n",
    "Flux = sec.flux_array(U, V)\n",
    "S = sec.sample3D(S)\n",
    "T = sec.sample3D(T)\n",
    "\n",
    "# Compute Atlantic flux where S > 34.9 and T > 5\n",
    "S_lim = 34.9\n",
    "T_lim = 5.0\n",
    "cond = (S > S_lim) & (T > T_lim)\n",
    "net_flux = np.sum(Flux[cond]) * 1e-6\n",
    "# Northwards component\n",
    "cond1 = (cond) & (Flux > 0)\n",
    "north_flux = np.sum(Flux[cond1]) * 1e-6\n",
    "\n",
    "print(\"Net flux,        S > {:4.1f}, T > {:4.1f}  = {:6.2f} Sv\".format(S_lim, T_lim, net_flux))\n",
    "print(\"Northwards flux, S > {:4.1f}, T > {:4.1f}  = {:6.2f} Sv\".format(S_lim, T_lim, north_flux))\n",
    "print(\"Southwards flux, S > {:4.1f}, T > {:4.1f}  = {:6.2f} Sv\".format(S_lim, T_lim, north_flux - net_flux))"
   ]
  },
  {
   "cell_type": "markdown",
   "metadata": {},
   "source": [
    "Property flux\n",
    "=============\n",
    "\n",
    "The flux of properties can be determined. Different definitions and/or reference levels may be applied.\n",
    "As an example, the code below computes the total tranport of salt by the net flux through the section"
   ]
  },
  {
   "cell_type": "code",
   "execution_count": null,
   "metadata": {},
   "outputs": [],
   "source": [
    "# Salt flux\n",
    "# ---------\n",
    "\n",
    "rho = 1025.0   # Density, could compute this from hydrography\n",
    "salt_flux = rho * np.sum(Flux * S) \n",
    "\n",
    "# unit Gg/s = kt/s\n",
    "print(\"Net salt flux = {:5.2f} Gg/s\".format(salt_flux * 1e-9))"
   ]
  },
  {
   "cell_type": "markdown",
   "metadata": {},
   "source": [
    "Flux in a depth range\n",
    "=====================\n",
    "\n",
    "The simplest way to compute the flux in a depth range is to use only\n",
    "flux cells where the $\\rho$-point is in the depth range. This can be\n",
    "done by the logical indexing."
   ]
  },
  {
   "cell_type": "code",
   "execution_count": null,
   "metadata": {},
   "outputs": [],
   "source": [
    "# Flux in a depth range\n",
    "# ----------------------\n",
    "\n",
    "depth_lim = 100.0\n",
    "\n",
    "# Have not sampled the depth of the rho-points, \n",
    "# instead approximate by the average from w-depths\n",
    "z_r = 0.5*(sec.z_w[:-1,:] + sec.z_w[1:,:])  \n",
    "\n",
    "# Shallow flux\n",
    "cond = z_r > -depth_lim\n",
    "net_flux = np.sum(Flux[cond]) * 1e-6\n",
    "cond1 = (cond) & (Flux > 0)     \n",
    "north_flux = np.sum(Flux[cond1]) * 1e-6\n",
    "\n",
    "print(\"Net flux, depth < {:4.0f}        = {:6.3f} Sv\".format(depth_lim, net_flux))\n",
    "print(\"Northwards flux, depth < {:4.0f} = {:6.3f} Sv\".format(depth_lim, north_flux))\n",
    "print(\"Southwards flux, depth < {:4.0f} = {:6.3f} Sv\".format(depth_lim, north_flux - net_flux))\n",
    "\n",
    "# Deep flux\n",
    "cond = z_r < -depth_lim\n",
    "net_flux = np.sum(Flux[cond]) * 1e-6\n",
    "cond1 = (cond) & (Flux > 0)\n",
    "north_flux = np.sum(Flux[cond1]) * 1e-6\n",
    "\n",
    "print(\"\")\n",
    "print(\"Net flux, depth > {:4.0f}        = {:6.3f} Sv\".format(depth_lim, net_flux))\n",
    "print(\"Northwards flux, depth > {:4.0f} = {:6.3f} Sv\".format(depth_lim, north_flux))\n",
    "print(\"Southwards flux, depth > {:4.0f} = {:6.3f} Sv\".format(depth_lim, north_flux - net_flux))"
   ]
  },
  {
   "cell_type": "markdown",
   "metadata": {},
   "source": [
    "Alternative algorithm\n",
    "=====================\n",
    "\n",
    "A more accurate algorithm is to include the fraction of the grid cell\n",
    "above the depth limit. This can be done by an *integrating kernel*,\n",
    "that is a 2D array `K` where the entries are zero if the cell is totally\n",
    "below the limit, one if totally above the limit and the fraction above the \n",
    "limit if the flux cell contains the limit. The total flux above the limit is found\n",
    "by multiplying the flux array with `K` and summing.\n",
    "\n",
    "This algorithm is not more complicated than above. In our example, the\n",
    "estimated flux values are almost equal, we had to include the third decimal to\n",
    "notice the difference."
   ]
  },
  {
   "cell_type": "code",
   "execution_count": null,
   "metadata": {},
   "outputs": [],
   "source": [
    "depth_lim = 100\n",
    "\n",
    "# Make an integration kernel\n",
    "K = (sec.z_w[1:,:] + depth_lim) / sec.dZ # Fraction of cell above limit\n",
    "np.clip(K, 0.0, 1.0, out=K) \n",
    "\n",
    "net_flux = np.sum(K*Flux) * 1e-6\n",
    "north_flux = np.sum((K*Flux)[Flux>0]) *1e-6\n",
    "\n",
    "print(\"Net flux, depth > {:4.0f}        = {:6.3f} Sv\".format(depth_lim, net_flux))\n",
    "print(\"Northwards flux, depth > {:4.0f} = {:6.3f} Sv\".format(depth_lim, north_flux))\n"
   ]
  },
  {
   "cell_type": "markdown",
   "metadata": {},
   "source": [
    "Componentwise fluxes\n",
    "===================\n",
    "\n",
    "It may be instructional to examine the staircase behaviour of the flux.\n",
    "We may separate the flux across U- and V-edges respectively. The \n",
    "`FluxSection` class has 1D horiozontal logical arrays `Eu` and `Ev`\n",
    "pointing to the respective edge types. \n",
    "\n",
    "To use the logical indexing pattern\n",
    "from the other examples, this has to be extended vertically so that we get\n",
    "a condition on the flux cell indicating wheter it is part of a U- or V-edge.\n",
    "The `numpy` function `logical_and.outer` with a `True` argument may be used\n",
    "for this. [Better ways?]"
   ]
  },
  {
   "cell_type": "code",
   "execution_count": null,
   "metadata": {},
   "outputs": [],
   "source": [
    "# Examine the staircase\n",
    "# ------------------------\n",
    "\n",
    "# Flux in X-direction (mostly east)\n",
    "cond = sec.Eu   # Only use U-edges\n",
    "# Extend the array in the vertical\n",
    "cond = np.logical_and.outer(sec.N*[True], cond)\n",
    "\n",
    "net_flux = np.sum(Flux[cond]) * 1e-6\n",
    "\n",
    "# Postive component\n",
    "cond1 = (cond) & (Flux > 0)\n",
    "pos_flux = np.sum(Flux[cond1]) * 1e-6\n",
    "\n",
    "\n",
    "print(\"net X flux = {:6.2f} Sv\".format(net_flux))\n",
    "print(\"pos X flux = {:6.2f} Sv\".format(pos_flux))\n",
    "print(\"neg X flux = {:6.2f} Sv\".format(pos_flux-net_flux))\n",
    "\n",
    "# Flux in Y-direction (mostly north)\n",
    "cond = np.logical_and.outer(sec.N*[True], sec.Ev)   # Only V-edges\n",
    "net_flux = np.sum(Flux[cond]) * 1e-6\n",
    "# Postive component\n",
    "\n",
    "cond1 = (cond) & (Flux > 0)\n",
    "pos_flux = np.sum(Flux[cond1]) * 1e-6\n",
    "\n",
    "print(\"\")\n",
    "print(\"net Y flux = {:6.2f} Sv\".format(net_flux))\n",
    "print(\"pos Y flux = {:6.2f} Sv\".format(pos_flux))\n",
    "print(\"neg Y flux = {:6.2f} Sv\".format(pos_flux-net_flux))"
   ]
  },
  {
   "cell_type": "markdown",
   "metadata": {},
   "source": [
    "Flux calculations on a subgrid\n",
    "==============================\n",
    "\n",
    "It may save memory and I/O time to work on a subgrid. Just specify the subgrid using\n",
    "the SGrid subgrid convention and use the staircase function unchanged. The SGrid object\n",
    "is responsible for handling any offsets."
   ]
  },
  {
   "cell_type": "code",
   "execution_count": null,
   "metadata": {},
   "outputs": [],
   "source": [
    "# Print the limits of the section\n",
    "## print I[0], I[-1], J[0], J[-1]\n",
    "\n",
    "# Specify a subgrid\n",
    "i0, i1, j0, j1 = 94, 131, 114, 130  # Minimal subgrid\n",
    "\n",
    "# Check that the section is contained in the subgrid\n",
    "assert i0 < I[0] < i1 and i0 < I[-1] < i1\n",
    "assert j0 < J[0] < j1 and j0 < J[-1] < j1\n",
    "\n",
    "# Make a SGrid object for the subgrid\n",
    "grd1 = roppy.SGrid(fid, subgrid=(i0,i1,j0,j1))\n",
    "\n",
    "# Make a FluxSection object\n",
    "sec1 = roppy.FluxSection(grd1, I, J)\n",
    "\n",
    "# Read velocity for the subgrid only\n",
    "U1 = fid.variables['u'][tstep, :, grd1.Ju, grd1.Iu]\n",
    "V1 = fid.variables['v'][tstep, :, grd1.Jv, grd1.Iv]\n",
    "\n",
    "# Compute net and positive fluxes\n",
    "netflux1, posflux1 = sec1.transport(U1, V1)\n",
    "\n",
    "# Control that the values have not changed from the computations for the whole grid\n",
    "print(\"                        whole grid  subgrid\")\n",
    "print(\"Net flux              :    {:6.3f}   {:6.3f} Sv\".format(netflux * 1e-6, netflux1 * 1e-6))\n",
    "print(\"Total northwards flux :    {:6.3f}   {:6.3f} Sv\".format(posflux * 1e-6, posflux1 * 1e-6))\n",
    "\n"
   ]
  },
  {
   "cell_type": "code",
   "execution_count": null,
   "metadata": {},
   "outputs": [],
   "source": []
  }
 ],
 "metadata": {
  "kernelspec": {
   "display_name": "Python 3 (ipykernel)",
   "language": "python",
   "name": "python3"
  },
  "language_info": {
   "codemirror_mode": {
    "name": "ipython",
    "version": 3
   },
   "file_extension": ".py",
   "mimetype": "text/x-python",
   "name": "python",
   "nbconvert_exporter": "python",
   "pygments_lexer": "ipython3",
   "version": "3.10.6"
  }
 },
 "nbformat": 4,
 "nbformat_minor": 1
}
