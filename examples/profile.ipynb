{
 "cells": [
  {
   "cell_type": "markdown",
   "id": "ee1fa08e",
   "metadata": {},
   "source": [
    "# Vertical profile\n",
    "\n",
    "This example shows how to plot a vertical profile with `roppy`."
   ]
  },
  {
   "cell_type": "code",
   "execution_count": null,
   "id": "c51dc0ca",
   "metadata": {},
   "outputs": [],
   "source": [
    "from netCDF4 import Dataset\n",
    "import matplotlib.pyplot as plt\n",
    "import roppy"
   ]
  },
  {
   "cell_type": "markdown",
   "id": "10282bd6",
   "metadata": {},
   "source": [
    "### Parameter settings"
   ]
  },
  {
   "cell_type": "code",
   "execution_count": null,
   "id": "8429ecd4",
   "metadata": {},
   "outputs": [],
   "source": [
    "roms_file = \"data/ocean_avg_example.nc\"\n",
    "var = \"temp\"  # name of variable in NetCDF file\n",
    "tstep = 3  # 4th time step\n",
    "i, j = 100, 90  # Horizontal grid cell indices"
   ]
  },
  {
   "cell_type": "markdown",
   "id": "064b89a1",
   "metadata": {},
   "source": [
    "## High level version\n",
    "\n",
    "Let `roppy.SGrid` do the work. As `SGrid` is \"lazy\", we can not use a `with` statement."
   ]
  },
  {
   "cell_type": "code",
   "execution_count": null,
   "id": "33981367",
   "metadata": {},
   "outputs": [],
   "source": [
    "fid = Dataset(roms_file)\n",
    "grid = roppy.SGrid(fid)"
   ]
  },
  {
   "cell_type": "markdown",
   "id": "01dc8b46",
   "metadata": {},
   "source": [
    "### Read the data\n",
    "\n",
    "Read only the actual profile."
   ]
  },
  {
   "cell_type": "code",
   "execution_count": null,
   "id": "4c38f39c",
   "metadata": {},
   "outputs": [],
   "source": [
    "profile_data = fid.variables[var][tstep, :, j, i]"
   ]
  },
  {
   "cell_type": "markdown",
   "id": "8233c6b2",
   "metadata": {},
   "source": [
    " ### Plot the data"
   ]
  },
  {
   "cell_type": "code",
   "execution_count": null,
   "id": "1497057e",
   "metadata": {},
   "outputs": [],
   "source": [
    "plt.plot(profile_data, grid.z_r[:, j, i]);"
   ]
  },
  {
   "cell_type": "markdown",
   "id": "7853a194",
   "metadata": {},
   "source": [
    "## Low level version\n",
    "\n",
    "Go directly at data from the given grid cell and use `roppy.sdepth` to extract the vertical structure."
   ]
  },
  {
   "cell_type": "markdown",
   "id": "d5c95cc8",
   "metadata": {},
   "source": [
    "### Read the data\n",
    "\n",
    "Read the data and the vertical information needed to determine the depth of the `s` levels. Old ROMS files do not have the `Vtransform` information, in this case use `Vtransform = 1`."
   ]
  },
  {
   "cell_type": "code",
   "execution_count": null,
   "id": "d88a68a2",
   "metadata": {},
   "outputs": [],
   "source": [
    "with Dataset(roms_file) as fid:\n",
    "    # Read the data\n",
    "    profile_data = fid.variables[var][tstep, :, j, i]\n",
    "    long_name = fid.variables[var].long_name  # Save long_name for xlabel\n",
    "    # Read necessary vertical information\n",
    "    H = fid.variables['h'][j, i]\n",
    "    C = fid.variables['Cs_r'][:]\n",
    "    Hc = fid.variables['hc'].getValue()\n",
    "    Vtransform = fid.variables.get('Vtransform', None)\n",
    "# Handle default value for Vtransform\n",
    "Vtransform = Vtransform.getValue() if Vtransform else 1"
   ]
  },
  {
   "cell_type": "markdown",
   "id": "df766604",
   "metadata": {},
   "source": [
    "### Vertical discretization\n",
    "\n",
    "Use `roppy` to compute the depth of the `s` levels."
   ]
  },
  {
   "cell_type": "code",
   "execution_count": null,
   "id": "b003c120",
   "metadata": {},
   "outputs": [],
   "source": [
    "Z = -roppy.sdepth(H, Hc, C, Vtransform=Vtransform)"
   ]
  },
  {
   "cell_type": "markdown",
   "id": "00f37350",
   "metadata": {},
   "source": [
    "### Plot\n",
    "\n",
    "Use matplotlib's `plot` function to show the profile"
   ]
  },
  {
   "cell_type": "code",
   "execution_count": null,
   "id": "f71d2af1",
   "metadata": {},
   "outputs": [],
   "source": [
    "plt.figure(figsize=(4,8))  # Make the plot higher\n",
    "plt.plot(profile_data, Z, '-o')  # Mark the actual data points\n",
    "plt.ylim([H, 0])           # Invert the vertical axis\n",
    "plt.xlabel(long_name.capitalize())\n",
    "plt.ylabel('Depth')\n",
    "plt.grid(True)"
   ]
  },
  {
   "cell_type": "code",
   "execution_count": null,
   "id": "409837bb",
   "metadata": {},
   "outputs": [],
   "source": []
  }
 ],
 "metadata": {
  "kernelspec": {
   "display_name": "Python 3 (ipykernel)",
   "language": "python",
   "name": "python3"
  },
  "language_info": {
   "codemirror_mode": {
    "name": "ipython",
    "version": 3
   },
   "file_extension": ".py",
   "mimetype": "text/x-python",
   "name": "python",
   "nbconvert_exporter": "python",
   "pygments_lexer": "ipython3",
   "version": "3.10.6"
  }
 },
 "nbformat": 4,
 "nbformat_minor": 5
}
